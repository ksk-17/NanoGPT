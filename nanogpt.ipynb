{
 "cells": [
  {
   "cell_type": "code",
   "execution_count": 1,
   "id": "52e99db9",
   "metadata": {},
   "outputs": [
    {
     "name": "stdout",
     "output_type": "stream",
     "text": [
      "\n",
      "Saved under input (1).txt\n"
     ]
    }
   ],
   "source": [
    "# load data set, the data set contains the works of shakespere\n",
    "#!python -m wget https://raw.githubusercontent.com/karpathy/char-rnn/master/data/tinyshakespeare/input.txt"
   ]
  },
  {
   "cell_type": "code",
   "execution_count": 1,
   "id": "99cbac97",
   "metadata": {},
   "outputs": [],
   "source": [
    "with open('input.txt', 'r', encoding='utf-8') as f:\n",
    "    text = f.read()"
   ]
  },
  {
   "cell_type": "code",
   "execution_count": 2,
   "id": "52eb317a",
   "metadata": {},
   "outputs": [
    {
     "name": "stdout",
     "output_type": "stream",
     "text": [
      "total length of dataset: 1115394\n"
     ]
    }
   ],
   "source": [
    "print(\"total length of dataset:\", len(text))"
   ]
  },
  {
   "cell_type": "code",
   "execution_count": 3,
   "id": "0ed459f2",
   "metadata": {},
   "outputs": [
    {
     "name": "stdout",
     "output_type": "stream",
     "text": [
      "First Citizen:\n",
      "Before we proceed any further, hear me speak.\n",
      "\n",
      "All:\n",
      "Speak, speak.\n",
      "\n",
      "First Citizen:\n",
      "You are all resolved rather to die than to famish?\n",
      "\n",
      "All:\n",
      "Resolved. resolved.\n",
      "\n",
      "First Citizen:\n",
      "First, you know Caius Marcius is chief enemy to the people.\n",
      "\n",
      "All:\n",
      "We know't, we know't.\n",
      "\n",
      "First Citizen:\n",
      "Let us kill him, and we'll have corn at our own price.\n",
      "Is't a verdict?\n",
      "\n",
      "All:\n",
      "No more talking on't; let it be done: away, away!\n",
      "\n",
      "Second Citizen:\n",
      "One word, good citizens.\n",
      "\n",
      "First Citizen:\n",
      "We are accounted poor citizens, the patricians good.\n",
      "What authority surfeits on would relieve us: if they\n",
      "would yield us but the superfluity, while it were\n",
      "wholesome, we might guess they relieved us humanely;\n",
      "but they think we are too dear: the leanness that\n",
      "afflicts us, the object of our misery, is as an\n",
      "inventory to particularise their abundance; our\n",
      "sufferance is a gain to them Let us revenge this with\n",
      "our pikes, ere we become rakes: for the gods know I\n",
      "speak this in hunger for bread, not in thirst for revenge.\n",
      "\n",
      "\n"
     ]
    }
   ],
   "source": [
    "#print few characters\n",
    "print(text[:1000])"
   ]
  },
  {
   "cell_type": "code",
   "execution_count": 4,
   "id": "01669976",
   "metadata": {},
   "outputs": [
    {
     "name": "stdout",
     "output_type": "stream",
     "text": [
      "total distinct chars: \n",
      " !$&',-.3:;?ABCDEFGHIJKLMNOPQRSTUVWXYZabcdefghijklmnopqrstuvwxyz\n",
      "size of vocabulary: 65\n"
     ]
    }
   ],
   "source": [
    "# collect the distinct charset\n",
    "chars = sorted(set(text))\n",
    "vocab_size = len(chars)\n",
    "print(\"total distinct chars:\", ''.join(chars))\n",
    "print(\"size of vocabulary:\", vocab_size)\n",
    "# note /n is also a characters in our vocab"
   ]
  },
  {
   "cell_type": "code",
   "execution_count": 5,
   "id": "f4ab2023",
   "metadata": {},
   "outputs": [
    {
     "name": "stdout",
     "output_type": "stream",
     "text": [
      "[57, 46, 39, 49, 43, 57, 54, 43, 56, 43]\n",
      "['s', 'h', 'a', 'k', 'e', 's', 'p', 'e', 'r', 'e']\n"
     ]
    }
   ],
   "source": [
    "# embedding the chars\n",
    "\n",
    "# create maps for embeddingss\n",
    "char_to_value = { ch:i for i,ch in enumerate(chars)}\n",
    "value_to_char = { i:ch for i,ch in enumerate(chars)}\n",
    "\n",
    "# create lambda function to encode and decode the given text\n",
    "encode = lambda s: [char_to_value[ch] for ch in s]\n",
    "decode = lambda s: [value_to_char[vl] for vl in s]\n",
    "\n",
    "print(encode(\"shakespere\"))\n",
    "print(decode(encode(\"shakespere\")))"
   ]
  },
  {
   "cell_type": "code",
   "execution_count": 6,
   "id": "dae7a004",
   "metadata": {},
   "outputs": [
    {
     "name": "stdout",
     "output_type": "stream",
     "text": [
      "torch.Size([1115394]) torch.int64\n"
     ]
    }
   ],
   "source": [
    "#create a data tensor\n",
    "import torch\n",
    "data = torch.tensor(encode(text), dtype = torch.long)\n",
    "print(data.shape, data.dtype)"
   ]
  },
  {
   "cell_type": "code",
   "execution_count": 7,
   "id": "31a9634c",
   "metadata": {},
   "outputs": [
    {
     "name": "stdout",
     "output_type": "stream",
     "text": [
      "torch.Size([1003854]) torch.Size([111540])\n"
     ]
    }
   ],
   "source": [
    "# split the data into train and validation sets (0.9:0.1)\n",
    "percentile = int(0.9 * len(data))\n",
    "train_data = data[:percentile]\n",
    "val_data = data[percentile:]\n",
    "print(train_data.shape, val_data.shape)"
   ]
  },
  {
   "cell_type": "code",
   "execution_count": 8,
   "id": "0a1b3dc7",
   "metadata": {},
   "outputs": [
    {
     "data": {
      "text/plain": [
       "tensor([18, 47, 56, 57, 58,  1, 15, 47, 58])"
      ]
     },
     "execution_count": 8,
     "metadata": {},
     "output_type": "execute_result"
    }
   ],
   "source": [
    "block_size = 8\n",
    "train_data[:block_size+1]"
   ]
  },
  {
   "cell_type": "code",
   "execution_count": 9,
   "id": "36825fc9",
   "metadata": {},
   "outputs": [
    {
     "name": "stdout",
     "output_type": "stream",
     "text": [
      "for the input tensor([18]) output is 47\n",
      "for the input tensor([18, 47]) output is 56\n",
      "for the input tensor([18, 47, 56]) output is 57\n",
      "for the input tensor([18, 47, 56, 57]) output is 58\n",
      "for the input tensor([18, 47, 56, 57, 58]) output is 1\n",
      "for the input tensor([18, 47, 56, 57, 58,  1]) output is 15\n",
      "for the input tensor([18, 47, 56, 57, 58,  1, 15]) output is 47\n",
      "for the input tensor([18, 47, 56, 57, 58,  1, 15, 47]) output is 58\n"
     ]
    }
   ],
   "source": [
    "# the ouput would be the next word for the set of input \n",
    "x = train_data[:block_size]\n",
    "y = train_data[1:block_size+1]\n",
    "for i in range(block_size):\n",
    "    x_itr = x[:i+1]\n",
    "    y_itr = y[i]\n",
    "    print(f\"for the input {x_itr} output is {y_itr}\")"
   ]
  },
  {
   "cell_type": "code",
   "execution_count": 10,
   "id": "3efb36a6",
   "metadata": {},
   "outputs": [
    {
     "name": "stdout",
     "output_type": "stream",
     "text": [
      "input: tensor([[24, 43, 58,  5, 57,  1, 46, 43],\n",
      "        [44, 53, 56,  1, 58, 46, 39, 58],\n",
      "        [52, 58,  1, 58, 46, 39, 58,  1],\n",
      "        [25, 17, 27, 10,  0, 21,  1, 54]])\n",
      "input size: torch.Size([4, 8])\n",
      "output: tensor([[43, 58,  5, 57,  1, 46, 43, 39],\n",
      "        [53, 56,  1, 58, 46, 39, 58,  1],\n",
      "        [58,  1, 58, 46, 39, 58,  1, 46],\n",
      "        [17, 27, 10,  0, 21,  1, 54, 39]])\n",
      "output size: torch.Size([4, 8])\n"
     ]
    }
   ],
   "source": [
    "# we write code to get the batches of inputs\n",
    "batch_size = 4 # no of sequences the model process in parallel\n",
    "block_size = 8 # max context length for the prediction\n",
    "# add and seed value to get same random numbers everytime\n",
    "torch.manual_seed(1337)\n",
    "\n",
    "def get_batch(split):\n",
    "    # generate appropriate data\n",
    "    data = train_data if split == \"train\" else val_data\n",
    "    offsets = torch.randint(len(data) - block_size, (batch_size,))\n",
    "    x = torch.stack([data[i:i+block_size] for i in offsets])\n",
    "    y = torch.stack([data[i+1:i+block_size+1] for i in offsets])\n",
    "    return x,y\n",
    "\n",
    "xb, yb = get_batch(\"train\")\n",
    "print(f\"input: {xb}\")\n",
    "print(f\"input size: {xb.shape}\")\n",
    "print(f\"output: {yb}\")\n",
    "print(f\"output size: {yb.shape}\")"
   ]
  },
  {
   "cell_type": "code",
   "execution_count": 11,
   "id": "deac0d21",
   "metadata": {},
   "outputs": [
    {
     "name": "stdout",
     "output_type": "stream",
     "text": [
      "torch.Size([32, 65])\n",
      "tensor(4.8786, grad_fn=<NllLossBackward0>)\n",
      "\n",
      "SKIcLT;AcELMoTbvZv C?nq-QE33:CJqkOKH-q;:la!oiywkHjgChzbQ?u!3bLIgwevmyFJGUGp\n",
      "wnYWmnxKWWev-tDqXErVKLgJ\n"
     ]
    }
   ],
   "source": [
    "# implent BigramLanguageModel to embedd the data\n",
    "import torch.nn as nn\n",
    "from torch.nn import functional as F\n",
    "torch.manual_seed(1337)\n",
    "\n",
    "class BigramLanguageModel(nn.Module):\n",
    "    \n",
    "    def __init__(self, vocab_size):\n",
    "        super().__init__()\n",
    "        # initialize a embedding vector\n",
    "        self.token_embedding_table = nn.Embedding(vocab_size, vocab_size)\n",
    "    \n",
    "    def forward(self, idx, targets = None):\n",
    "        # idx and targets are both of size (B(batch), T(block))\n",
    "        logits = self.token_embedding_table(idx) # (B, T, C)\n",
    "        \n",
    "        if targets is None:\n",
    "            loss = None\n",
    "        else:\n",
    "            # define the loss we use the cross entropy function\n",
    "            # but the cross_entropy expects the 2nd dimension to be C\n",
    "            # hence we reshape the arrays\n",
    "            B, T, C = logits.shape\n",
    "        \n",
    "            # view function reshape the tensor\n",
    "            logits = logits.view(B*T, C)\n",
    "            targets = targets.view(B*T)\n",
    "            loss = F.cross_entropy(logits, targets)\n",
    "\n",
    "        return logits, loss\n",
    "    \n",
    "    def generate(self, idx, max_new_tokens):\n",
    "        # idx is (B, T) array of indices of current context\n",
    "        for _ in range(max_new_tokens):\n",
    "            # get the predictions\n",
    "            logits, loss = self(idx)\n",
    "            # focus on the last timestamp\n",
    "            logits = logits[:, -1, :] # becomes (B, C)\n",
    "            # apply softmax to get probabilities\n",
    "            # dim=-1 reperesents to apply softmax to last dimension\n",
    "            probs = F.softmax(logits, dim=-1) # (B, C)\n",
    "            # sample from the distribution\n",
    "            idx_next = torch.multinomial(probs, num_samples=1) # (B, 1)\n",
    "            # append sampled index to the running sequence\n",
    "            idx = torch.cat((idx, idx_next), dim=1) # (B, T+1)\n",
    "        return idx\n",
    "\n",
    "blm = BigramLanguageModel(vocab_size)\n",
    "logits, loss = blm(xb, yb)\n",
    "print(logits.shape)\n",
    "print(loss)\n",
    "\n",
    "# test the model initally\n",
    "print(''.join(decode(blm.generate(torch.zeros((1, 1), dtype=torch.long), max_new_tokens=100)[0].tolist())))"
   ]
  },
  {
   "cell_type": "code",
   "execution_count": 12,
   "id": "b65a3bea",
   "metadata": {},
   "outputs": [],
   "source": [
    "# optimizer\n",
    "optimizer = torch.optim.AdamW(blm.parameters(), lr = 1e-3)"
   ]
  },
  {
   "cell_type": "code",
   "execution_count": 15,
   "id": "48e4347f",
   "metadata": {},
   "outputs": [],
   "source": [
    "# hyperparameters\n",
    "batch_size = 32\n",
    "block_size = 8\n",
    "max_iters = 3000\n",
    "eval_interval = 300\n",
    "learning_rate = 1e-2\n",
    "eval_iters = 200"
   ]
  },
  {
   "cell_type": "code",
   "execution_count": 32,
   "id": "680bf314",
   "metadata": {},
   "outputs": [
    {
     "name": "stdout",
     "output_type": "stream",
     "text": [
      "completed 500/10000, loss=2.4568\n",
      "completed 1000/10000, loss=2.3789\n",
      "completed 1500/10000, loss=2.4362\n",
      "completed 2000/10000, loss=2.3088\n",
      "completed 2500/10000, loss=2.4568\n",
      "completed 3000/10000, loss=2.5789\n",
      "completed 3500/10000, loss=2.3757\n",
      "completed 4000/10000, loss=2.5029\n",
      "completed 4500/10000, loss=2.5389\n",
      "completed 5000/10000, loss=2.4516\n",
      "completed 5500/10000, loss=2.4302\n",
      "completed 6000/10000, loss=2.5638\n",
      "completed 6500/10000, loss=2.4534\n",
      "completed 7000/10000, loss=2.4199\n",
      "completed 7500/10000, loss=2.4469\n",
      "completed 8000/10000, loss=2.4801\n",
      "completed 8500/10000, loss=2.4538\n",
      "completed 9000/10000, loss=2.4580\n",
      "completed 9500/10000, loss=2.2790\n",
      "completed 10000/10000, loss=2.4072\n",
      "2.4072139263153076\n"
     ]
    }
   ],
   "source": [
    "for steps in range(10000):\n",
    "    xb, yb = get_batch('train')\n",
    "    logits, loss = blm(xb, yb)\n",
    "    optimizer.zero_grad(set_to_none=True)\n",
    "    loss.backward()\n",
    "    optimizer.step()\n",
    "    \n",
    "    if(steps+1)%500 == 0:\n",
    "        print(f'completed {steps+1}/10000, loss={loss.item():.4f}')\n",
    "    \n",
    "print(loss.item())"
   ]
  },
  {
   "cell_type": "code",
   "execution_count": 14,
   "id": "ddd7cfd1",
   "metadata": {},
   "outputs": [
    {
     "name": "stdout",
     "output_type": "stream",
     "text": [
      "\n",
      "lso br. ave aviasurf my, yxMPZI ivee iuedrd whar ksth y h bora s be hese, woweee; the! KI 'de, ulseecherd d o blllando;LUCEO, oraingofof win!\n",
      "RIfans picspeserer hee tha,\n",
      "TOFonk? me ain ckntoty ded. bo\n"
     ]
    }
   ],
   "source": [
    "print(''.join(decode(blm.generate(torch.zeros((1, 1), dtype=torch.long), max_new_tokens=200)[0].tolist())))"
   ]
  },
  {
   "cell_type": "code",
   "execution_count": null,
   "id": "2d7952dc",
   "metadata": {},
   "outputs": [],
   "source": [
    "# the above was the simplest model made but it was only taking the \n",
    "# last generated token as the input, lets build a model which\n",
    "# takes previous token to build the context"
   ]
  },
  {
   "cell_type": "code",
   "execution_count": 16,
   "id": "5e8cff2f",
   "metadata": {},
   "outputs": [],
   "source": [
    "# @torch.no_grad()\n",
    "# def estimate_loss():\n",
    "#     out = {}\n",
    "#     # set the model into eval mode\n",
    "#     model.eval()\n",
    "#     for split in ['train', 'val']:\n",
    "#         losses = torch.zeros(eval_iters)\n",
    "#         for k in rangel(eval_iters):\n",
    "#             X, Y = get_batch(split)\n",
    "#             logits, loss = model(X, Y)\n",
    "#             losses[k] = loss.item()\n",
    "#         out[split] = losses.mean()\n",
    "#     # set the model back into train mode\n",
    "#     model.train()\n",
    "#     return out"
   ]
  },
  {
   "cell_type": "code",
   "execution_count": 20,
   "id": "03aff95b",
   "metadata": {},
   "outputs": [],
   "source": [
    "# for iter in range(max_iters):\n",
    "    \n",
    "#     if iter % eval_interval == 0:\n",
    "#         losses = estimate_loss()\n",
    "#         print(f\"step {iter}: trian loss {losses['train']:.4f}, val loss {losses['val']:.4f}\")\n",
    "    \n",
    "#     xb, yb = get_batch('train')\n",
    "    \n",
    "#     logits, loss = blm(xb, yb)\n",
    "#     optimizer.zero_grad(set_to_none=True)\n",
    "#     loss.backward()\n",
    "#     optimizer.step()\n",
    "    \n",
    "# #generate from the model\n",
    "# cnotext = torch.zeros((1, 1), dtype = torch.long)\n",
    "# print(decode(blm.generate(context, max_new_tokens=500)[0].tolist()))"
   ]
  },
  {
   "cell_type": "code",
   "execution_count": 23,
   "id": "3c8b8e3e",
   "metadata": {},
   "outputs": [
    {
     "name": "stdout",
     "output_type": "stream",
     "text": [
      "torch.Size([4, 8, 2])\n"
     ]
    }
   ],
   "source": [
    "# mathematical trick in self-attention\n",
    "# we want in our character in self attention model to communicate \n",
    "# with only the previous characters hence we use the following trick\n",
    "\n",
    "B, T, C = 4,8,2\n",
    "\n",
    "# we want x[b, t] = mean_{i<=t} x[b,i]\n",
    "xbow = torch.zeros((B, T, C))\n",
    "x = torch.randn(B, T, C)\n",
    "print(x.shape)\n",
    "\n",
    "#verison 1\n",
    "for b in range(B):\n",
    "    for t in range(T):\n",
    "        xprev = x[b, :t+1] #(t,C)\n",
    "        xbow[b, t] = torch.mean(xprev, 0)"
   ]
  },
  {
   "cell_type": "code",
   "execution_count": 29,
   "id": "f6eb17f5",
   "metadata": {},
   "outputs": [
    {
     "data": {
      "text/plain": [
       "True"
      ]
     },
     "execution_count": 29,
     "metadata": {},
     "output_type": "execute_result"
    }
   ],
   "source": [
    "#version 2\n",
    "\n",
    "# here we multiply our matrix with the tril matrix which is the lower\n",
    "# traingular matrix and it ensures the character is only loooking \n",
    "# the previous characters\n",
    "wei = torch.tril(torch.ones(T, T)) # gives you a lower triangular matrix\n",
    "wei = wei/wei.sum(1, keepdim=True) # gives you the average of the row\n",
    "xbow2 = wei @ x #(T, T) @ (B, T, C) --> (B, T, C)\n",
    "# when you multiply above wei with x as wei is 2 dimensional\n",
    "# python broadcasts it to (B, T, T) dimension\n",
    "\n",
    "# checks if the two matrices are identical with the margin of error\n",
    "torch.allclose(xbow, xbow2)"
   ]
  },
  {
   "cell_type": "code",
   "execution_count": 31,
   "id": "6719f2b8",
   "metadata": {},
   "outputs": [
    {
     "data": {
      "text/plain": [
       "True"
      ]
     },
     "execution_count": 31,
     "metadata": {},
     "output_type": "execute_result"
    }
   ],
   "source": [
    "# version 3: use softmax\n",
    "\n",
    "# softmax can be replaced with the division with the sum as the softmax\n",
    "# function does the same thing\n",
    "tril = torch.tril(torch.ones(T, T))\n",
    "wei = torch.zeros((T, T))\n",
    "wei = wei.masked_fill(tril == 0, float('-inf')) # filles 0 with -inf\n",
    "wei = F.softmax(wei, dim = -1)\n",
    "xbow3 = wei @ x\n",
    "torch.allclose(xbow, xbow3)"
   ]
  },
  {
   "cell_type": "code",
   "execution_count": 36,
   "id": "1c1b78ce",
   "metadata": {},
   "outputs": [
    {
     "data": {
      "text/plain": [
       "tensor([[1.0000, 0.0000, 0.0000, 0.0000, 0.0000, 0.0000, 0.0000, 0.0000],\n",
       "        [0.5000, 0.5000, 0.0000, 0.0000, 0.0000, 0.0000, 0.0000, 0.0000],\n",
       "        [0.3333, 0.3333, 0.3333, 0.0000, 0.0000, 0.0000, 0.0000, 0.0000],\n",
       "        [0.2500, 0.2500, 0.2500, 0.2500, 0.0000, 0.0000, 0.0000, 0.0000],\n",
       "        [0.2000, 0.2000, 0.2000, 0.2000, 0.2000, 0.0000, 0.0000, 0.0000],\n",
       "        [0.1667, 0.1667, 0.1667, 0.1667, 0.1667, 0.1667, 0.0000, 0.0000],\n",
       "        [0.1429, 0.1429, 0.1429, 0.1429, 0.1429, 0.1429, 0.1429, 0.0000],\n",
       "        [0.1250, 0.1250, 0.1250, 0.1250, 0.1250, 0.1250, 0.1250, 0.1250]])"
      ]
     },
     "execution_count": 36,
     "metadata": {},
     "output_type": "execute_result"
    }
   ],
   "source": [
    "wei"
   ]
  },
  {
   "cell_type": "code",
   "execution_count": 43,
   "id": "52e7de7d",
   "metadata": {},
   "outputs": [
    {
     "data": {
      "text/plain": [
       "torch.Size([4, 8, 16])"
      ]
     },
     "execution_count": 43,
     "metadata": {},
     "output_type": "execute_result"
    }
   ],
   "source": [
    "# version 4: self-attention\n",
    "torch.manual_seed(1337)\n",
    "B, T, C = 4, 8, 32\n",
    "x = torch.randn(B, T, C)\n",
    "\n",
    "# lets see a single Head perform self-attention\n",
    "head_size = 16\n",
    "key = nn.Linear(C, head_size, bias = False) \n",
    "query = nn.Linear(C, head_size, bias = False)\n",
    "value = nn.Linear(C, head_size, bias = False)\n",
    "k = key(x) #(B, T, 16)\n",
    "q = query(x) #(B, T, 16)\n",
    "v = value(x) #(B, T, 16)\n",
    "wei = q @ k.transpose(-2, -1) # (B, T, 16) @ (B, 16, T) --> (B, T, T)\n",
    "\n",
    "tril = torch.tril(torch.ones(T, T))\n",
    "# wei = torch.zeros((T, T))\n",
    "wei = wei.masked_fill(tril == 0, float('-inf'))\n",
    "wei = F.softmax(wei, dim = -1)\n",
    "\n",
    "out = wei @ v\n",
    "\n",
    "out.shape"
   ]
  },
  {
   "cell_type": "code",
   "execution_count": 44,
   "id": "d7ac2dc3",
   "metadata": {},
   "outputs": [
    {
     "data": {
      "text/plain": [
       "tensor([[1.0000, 0.0000, 0.0000, 0.0000, 0.0000, 0.0000, 0.0000, 0.0000],\n",
       "        [0.1574, 0.8426, 0.0000, 0.0000, 0.0000, 0.0000, 0.0000, 0.0000],\n",
       "        [0.2088, 0.1646, 0.6266, 0.0000, 0.0000, 0.0000, 0.0000, 0.0000],\n",
       "        [0.5792, 0.1187, 0.1889, 0.1131, 0.0000, 0.0000, 0.0000, 0.0000],\n",
       "        [0.0294, 0.1052, 0.0469, 0.0276, 0.7909, 0.0000, 0.0000, 0.0000],\n",
       "        [0.0176, 0.2689, 0.0215, 0.0089, 0.6812, 0.0019, 0.0000, 0.0000],\n",
       "        [0.1691, 0.4066, 0.0438, 0.0416, 0.1048, 0.2012, 0.0329, 0.0000],\n",
       "        [0.0210, 0.0843, 0.0555, 0.2297, 0.0573, 0.0709, 0.2423, 0.2391]],\n",
       "       grad_fn=<SelectBackward0>)"
      ]
     },
     "execution_count": 44,
     "metadata": {},
     "output_type": "execute_result"
    }
   ],
   "source": [
    "wei[0]"
   ]
  },
  {
   "cell_type": "markdown",
   "id": "ae22bdd2",
   "metadata": {},
   "source": [
    "Notes:\n",
    "- Attention is a **communication mechanism**. Can be seen as nodes in a directed graph looking at each other and aggregating information with a weighted sum from all nodes that point to them, with data-dependent weights.\n",
    "- There is no notion of space. Attention simply acts over a set of vectors. This is why we need to positionally encode tokens.\n",
    "- Each example across batch dimension is of course processed completely independently and never \"talk\" to each other\n",
    "- In an \"encoder\" attention block just delete the single line that does masking with `tril`, allowing all tokens to communicate. This block here is called a \"decoder\" attention block because it has triangular masking, and is usually used in autoregressive settings, like language modeling.\n",
    "- \"self-attention\" just means that the keys and values are produced from the same source as queries. In \"cross-attention\", the queries still get produced from x, but the keys and values come from some other, external source (e.g. an encoder module)\n",
    "- \"Scaled\" attention additional divides `wei` by 1/sqrt(head_size). This makes it so when input Q,K are unit variance, wei will be unit variance too and Softmax will stay diffuse and not saturate too much. Illustration below"
   ]
  },
  {
   "cell_type": "code",
   "execution_count": 45,
   "id": "5b8d2d53",
   "metadata": {},
   "outputs": [],
   "source": [
    "# we divide the wei matrix with sqrt(headsize) to normalize the variance\n",
    "\n",
    "wei = q @ k.transpose(-2, -1) * head_size ** -0.5"
   ]
  },
  {
   "cell_type": "code",
   "execution_count": 47,
   "id": "bbdcebb1",
   "metadata": {},
   "outputs": [
    {
     "data": {
      "text/plain": [
       "tensor(0.1201, grad_fn=<VarBackward0>)"
      ]
     },
     "execution_count": 47,
     "metadata": {},
     "output_type": "execute_result"
    }
   ],
   "source": [
    "wei.var()"
   ]
  },
  {
   "cell_type": "code",
   "execution_count": null,
   "id": "50d42622",
   "metadata": {},
   "outputs": [],
   "source": []
  },
  {
   "cell_type": "code",
   "execution_count": null,
   "id": "822d5570",
   "metadata": {},
   "outputs": [],
   "source": []
  },
  {
   "cell_type": "code",
   "execution_count": null,
   "id": "2d4ffd08",
   "metadata": {},
   "outputs": [],
   "source": []
  },
  {
   "cell_type": "code",
   "execution_count": null,
   "id": "e366f12f",
   "metadata": {},
   "outputs": [],
   "source": []
  }
 ],
 "metadata": {
  "kernelspec": {
   "display_name": "Python 3",
   "language": "python",
   "name": "python3"
  },
  "language_info": {
   "codemirror_mode": {
    "name": "ipython",
    "version": 3
   },
   "file_extension": ".py",
   "mimetype": "text/x-python",
   "name": "python",
   "nbconvert_exporter": "python",
   "pygments_lexer": "ipython3",
   "version": "3.6.13"
  }
 },
 "nbformat": 4,
 "nbformat_minor": 5
}
